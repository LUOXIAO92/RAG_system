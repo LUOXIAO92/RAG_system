{
 "cells": [
  {
   "cell_type": "code",
   "execution_count": 1,
   "id": "fe2d6c07",
   "metadata": {},
   "outputs": [
    {
     "data": {
      "text/plain": [
       "[{'path': './documents/JHEP03(2024)020.txt',\n",
       "  'type': 'JHEP',\n",
       "  'title': 'Title: Entanglement and Rényi entropies of (1+1)-dimensional O(3) nonlinear sigma model with tensor renormalization group',\n",
       "  'text': 'Title: Entanglement and Rényi entropies of (1+1)-dimensional O(3) nonlinear sigma model with tensor renormalization group 段落1:Autors: Xiao Luo(Tsukuba U., Inst. Appl. Phys.), Yoshinobu Kuramashi(Tsukuba U., CCS)'},\n",
       " {'path': './documents/JHEP03(2024)020.txt',\n",
       "  'type': 'JHEP',\n",
       "  'title': 'Title: Entanglement and Rényi entropies of (1+1)-dimensional O(3) nonlinear sigma model with tensor renormalization group',\n",
       "  'text': 'Title: Entanglement and Rényi entropies of (1+1)-dimensional O(3) nonlinear sigma model with tensor renormalization group 段落2:Date: Aug 5, 2023'},\n",
       " {'path': './documents/JHEP03(2024)020.txt',\n",
       "  'type': 'JHEP',\n",
       "  'title': 'Title: Entanglement and Rényi entropies of (1+1)-dimensional O(3) nonlinear sigma model with tensor renormalization group',\n",
       "  'text': 'Title: Entanglement and Rényi entropies of (1+1)-dimensional O(3) nonlinear sigma model with tensor renormalization group 段落3:Published in: JHEP 03 (2024) 020'},\n",
       " {'path': './documents/JHEP03(2024)020.txt',\n",
       "  'type': 'JHEP',\n",
       "  'title': 'Title: Entanglement and Rényi entropies of (1+1)-dimensional O(3) nonlinear sigma model with tensor renormalization group',\n",
       "  'text': 'Title: Entanglement and Rényi entropies of (1+1)-dimensional O(3) nonlinear sigma model with tensor renormalization group 段落4:Published: Mar 4, 2024'},\n",
       " {'path': './documents/JHEP03(2024)020.txt',\n",
       "  'type': 'JHEP',\n",
       "  'title': 'Title: Entanglement and Rényi entropies of (1+1)-dimensional O(3) nonlinear sigma model with tensor renormalization group',\n",
       "  'text': 'Title: Entanglement and Rényi entropies of (1+1)-dimensional O(3) nonlinear sigma model with tensor renormalization group 段落5:e-Print: 2308.02798 [hep-th]'},\n",
       " {'path': './documents/JHEP03(2024)020.txt',\n",
       "  'type': 'JHEP',\n",
       "  'title': 'Title: Entanglement and Rényi entropies of (1+1)-dimensional O(3) nonlinear sigma model with tensor renormalization group',\n",
       "  'text': 'Title: Entanglement and Rényi entropies of (1+1)-dimensional O(3) nonlinear sigma model with tensor renormalization group 段落6:DOI: 10.1007/JHEP03(2024)020'},\n",
       " {'path': './documents/JHEP03(2024)020.txt',\n",
       "  'type': 'JHEP',\n",
       "  'title': 'Title: Entanglement and Rényi entropies of (1+1)-dimensional O(3) nonlinear sigma model with tensor renormalization group',\n",
       "  'text': 'Title: Entanglement and Rényi entropies of (1+1)-dimensional O(3) nonlinear sigma model with tensor renormalization group 段落7:Abstract: We investigate the entanglement and Rényi entropies for the (1+1)-dimensional O(3) nonlinear sigma model using the tensor renormalization group method. The central charge is determined from the asymptotic scaling properties of both entropies. We also examine the consistency between the entanglement entropy and the nth-order Rényi entropy with n\\\\rightarrow 1.'},\n",
       " {'path': './documents/JHEP07(2025)036.txt',\n",
       "  'type': 'JHEP',\n",
       "  'title': 'Title: Critical endpoints of three-dimensional finite density SU(3) spin model with tensor renormalization group',\n",
       "  'text': 'Title: Critical endpoints of three-dimensional finite density SU(3) spin model with tensor renormalization group 段落1:Authors: Xiao Luo(Tsukuba U. (main)), Yoshinobu Kuramashi(Tsukuba U., CCS)'},\n",
       " {'path': './documents/JHEP07(2025)036.txt',\n",
       "  'type': 'JHEP',\n",
       "  'title': 'Title: Critical endpoints of three-dimensional finite density SU(3) spin model with tensor renormalization group',\n",
       "  'text': 'Title: Critical endpoints of three-dimensional finite density SU(3) spin model with tensor renormalization group 段落2:Date: Mar 7, 2025'},\n",
       " {'path': './documents/JHEP07(2025)036.txt',\n",
       "  'type': 'JHEP',\n",
       "  'title': 'Title: Critical endpoints of three-dimensional finite density SU(3) spin model with tensor renormalization group',\n",
       "  'text': 'Title: Critical endpoints of three-dimensional finite density SU(3) spin model with tensor renormalization group 段落3:Published in: JHEP 07 (2025) 036'},\n",
       " {'path': './documents/JHEP07(2025)036.txt',\n",
       "  'type': 'JHEP',\n",
       "  'title': 'Title: Critical endpoints of three-dimensional finite density SU(3) spin model with tensor renormalization group',\n",
       "  'text': 'Title: Critical endpoints of three-dimensional finite density SU(3) spin model with tensor renormalization group 段落4:Published: Jul 2, 2025'},\n",
       " {'path': './documents/JHEP07(2025)036.txt',\n",
       "  'type': 'JHEP',\n",
       "  'title': 'Title: Critical endpoints of three-dimensional finite density SU(3) spin model with tensor renormalization group',\n",
       "  'text': 'Title: Critical endpoints of three-dimensional finite density SU(3) spin model with tensor renormalization group 段落5:e-Print: 2503.05144 [hep-lat]'},\n",
       " {'path': './documents/JHEP07(2025)036.txt',\n",
       "  'type': 'JHEP',\n",
       "  'title': 'Title: Critical endpoints of three-dimensional finite density SU(3) spin model with tensor renormalization group',\n",
       "  'text': 'Title: Critical endpoints of three-dimensional finite density SU(3) spin model with tensor renormalization group 段落6:DOI: 10.1007/JHEP07(2025)036'},\n",
       " {'path': './documents/JHEP07(2025)036.txt',\n",
       "  'type': 'JHEP',\n",
       "  'title': 'Title: Critical endpoints of three-dimensional finite density SU(3) spin model with tensor renormalization group',\n",
       "  'text': 'Title: Critical endpoints of three-dimensional finite density SU(3) spin model with tensor renormalization group 段落7:Report number: UTHEP-796, UTCCS-P-161'},\n",
       " {'path': './documents/JHEP07(2025)036.txt',\n",
       "  'type': 'JHEP',\n",
       "  'title': 'Title: Critical endpoints of three-dimensional finite density SU(3) spin model with tensor renormalization group',\n",
       "  'text': 'Title: Critical endpoints of three-dimensional finite density SU(3) spin model with tensor renormalization group 段落8:Abstract: We investigate the phase diagram of the three-dimensional SU(3) spin model with finite chemical potential, which is an effective Polyakov loop model for finite density QCD, using the tensor renormalization group method. We successfully determine the location of the critical endpoints being free from the complex action problem in the standard Monte Carlo approach. The critical values of the parameters show the consistency with previous ones obtained by other analytic and numerical methods. '},\n",
       " {'path': './documents/JHEP11(2024)144.txt',\n",
       "  'type': 'JHEP',\n",
       "  'title': 'Title: Quantum phase transition of (1+1)-dimensional O(3) nonlinear sigma model at finite density with tensor renormalization group',\n",
       "  'text': 'Title: Quantum phase transition of (1+1)-dimensional O(3) nonlinear sigma model at finite density with tensor renormalization group 段落1:Authors: Xiao Luo(Tsukuba U., GSPAS), Yoshinobu Kuramashi(Tsukuba U., CCS)'},\n",
       " {'path': './documents/JHEP11(2024)144.txt',\n",
       "  'type': 'JHEP',\n",
       "  'title': 'Title: Quantum phase transition of (1+1)-dimensional O(3) nonlinear sigma model at finite density with tensor renormalization group',\n",
       "  'text': 'Title: Quantum phase transition of (1+1)-dimensional O(3) nonlinear sigma model at finite density with tensor renormalization group 段落2:Date: Jun 13, 2024'},\n",
       " {'path': './documents/JHEP11(2024)144.txt',\n",
       "  'type': 'JHEP',\n",
       "  'title': 'Title: Quantum phase transition of (1+1)-dimensional O(3) nonlinear sigma model at finite density with tensor renormalization group',\n",
       "  'text': 'Title: Quantum phase transition of (1+1)-dimensional O(3) nonlinear sigma model at finite density with tensor renormalization group 段落3:Published in: JHEP 11 (2024) 144'},\n",
       " {'path': './documents/JHEP11(2024)144.txt',\n",
       "  'type': 'JHEP',\n",
       "  'title': 'Title: Quantum phase transition of (1+1)-dimensional O(3) nonlinear sigma model at finite density with tensor renormalization group',\n",
       "  'text': 'Title: Quantum phase transition of (1+1)-dimensional O(3) nonlinear sigma model at finite density with tensor renormalization group 段落4:Published: Nov 26, 2024'},\n",
       " {'path': './documents/JHEP11(2024)144.txt',\n",
       "  'type': 'JHEP',\n",
       "  'title': 'Title: Quantum phase transition of (1+1)-dimensional O(3) nonlinear sigma model at finite density with tensor renormalization group',\n",
       "  'text': 'Title: Quantum phase transition of (1+1)-dimensional O(3) nonlinear sigma model at finite density with tensor renormalization group 段落5:e-Print: 2406.08865 [hep-lat]'},\n",
       " {'path': './documents/JHEP11(2024)144.txt',\n",
       "  'type': 'JHEP',\n",
       "  'title': 'Title: Quantum phase transition of (1+1)-dimensional O(3) nonlinear sigma model at finite density with tensor renormalization group',\n",
       "  'text': 'Title: Quantum phase transition of (1+1)-dimensional O(3) nonlinear sigma model at finite density with tensor renormalization group 段落6:DOI: 10.1007/JHEP11(2024)144'},\n",
       " {'path': './documents/JHEP11(2024)144.txt',\n",
       "  'type': 'JHEP',\n",
       "  'title': 'Title: Quantum phase transition of (1+1)-dimensional O(3) nonlinear sigma model at finite density with tensor renormalization group',\n",
       "  'text': 'Title: Quantum phase transition of (1+1)-dimensional O(3) nonlinear sigma model at finite density with tensor renormalization group 段落7:Abstract: We study the quantum phase transition of the (1+1)-dimensional O(3) nonlinear sigma model at finite density using the tensor renormalization group method. This model suffers from the sign problem, which has prevented us from investigating the properties of the phase transition. We investigate the properties of the phase transition by changing the chemical potential \\\\mu at a fixed coupling of \\\\beta. We determine the transition point \\\\mu_{\\\\rm c} and the critical exponent \\\\nu from the \\\\mu dependence of the number density in the thermodynamic limit. The dynamical critical exponent z is also extracted from the scaling behavior of the temporal correlation length as a function of \\\\mu.'},\n",
       " {'path': './documents/PhysRevD.107.094509.txt',\n",
       "  'type': 'PhysRevD',\n",
       "  'title': 'Title: Tensor renormalization group approach to (1+1)-dimensional SU(2) principal chiral model at finite density',\n",
       "  'text': 'Title: Tensor renormalization group approach to (1+1)-dimensional SU(2) principal chiral model at finite density 段落1:Authors: Xiao Luo(Tsukuba U., GSPAS), Yoshinobu Kuramashi(Tsukuba U., CCS)'},\n",
       " {'path': './documents/PhysRevD.107.094509.txt',\n",
       "  'type': 'PhysRevD',\n",
       "  'title': 'Title: Tensor renormalization group approach to (1+1)-dimensional SU(2) principal chiral model at finite density',\n",
       "  'text': 'Title: Tensor renormalization group approach to (1+1)-dimensional SU(2) principal chiral model at finite density 段落2:Date: Aug 30, 2022'},\n",
       " {'path': './documents/PhysRevD.107.094509.txt',\n",
       "  'type': 'PhysRevD',\n",
       "  'title': 'Title: Tensor renormalization group approach to (1+1)-dimensional SU(2) principal chiral model at finite density',\n",
       "  'text': 'Title: Tensor renormalization group approach to (1+1)-dimensional SU(2) principal chiral model at finite density 段落3:Published in: Phys.Rev.D 107 (2023) 9, 094509'},\n",
       " {'path': './documents/PhysRevD.107.094509.txt',\n",
       "  'type': 'PhysRevD',\n",
       "  'title': 'Title: Tensor renormalization group approach to (1+1)-dimensional SU(2) principal chiral model at finite density',\n",
       "  'text': 'Title: Tensor renormalization group approach to (1+1)-dimensional SU(2) principal chiral model at finite density 段落4:Published: May 1, 2023'},\n",
       " {'path': './documents/PhysRevD.107.094509.txt',\n",
       "  'type': 'PhysRevD',\n",
       "  'title': 'Title: Tensor renormalization group approach to (1+1)-dimensional SU(2) principal chiral model at finite density',\n",
       "  'text': 'Title: Tensor renormalization group approach to (1+1)-dimensional SU(2) principal chiral model at finite density 段落5:e-Print: 2208.13991 [hep-lat]'},\n",
       " {'path': './documents/PhysRevD.107.094509.txt',\n",
       "  'type': 'PhysRevD',\n",
       "  'title': 'Title: Tensor renormalization group approach to (1+1)-dimensional SU(2) principal chiral model at finite density',\n",
       "  'text': 'Title: Tensor renormalization group approach to (1+1)-dimensional SU(2) principal chiral model at finite density 段落6:DOI: 10.1103/PhysRevD.107.094509 (publication)'},\n",
       " {'path': './documents/PhysRevD.107.094509.txt',\n",
       "  'type': 'PhysRevD',\n",
       "  'title': 'Title: Tensor renormalization group approach to (1+1)-dimensional SU(2) principal chiral model at finite density',\n",
       "  'text': 'Title: Tensor renormalization group approach to (1+1)-dimensional SU(2) principal chiral model at finite density 段落7:Report number: UTHEP-772, UTCCS-P-146'},\n",
       " {'path': './documents/PhysRevD.107.094509.txt',\n",
       "  'type': 'PhysRevD',\n",
       "  'title': 'Title: Tensor renormalization group approach to (1+1)-dimensional SU(2) principal chiral model at finite density',\n",
       "  'text': 'Title: Tensor renormalization group approach to (1+1)-dimensional SU(2) principal chiral model at finite density 段落8:Abstract: We apply the tensor renormalization group method to the (1+1)-dimensional SU(2) principal chiral model at finite chemical potential with the use of the Gauss-Legendre quadrature to discretize the SU(2) Lie group. The internal energy at vanishing chemical potential \\\\mu=0 shows good consistency with the prediction of the strong and weak coupling expansions. This indicates an effectiveness of the Gauss-Legendre quadrature for the partitioning of the SU(2) Lie group. In the finite density region with \\\\mu\\\\ne 0 at the strong coupling we observe the Silver-Blaze phenomenon for the number density. '},\n",
       " {'path': './documents/PoSLATTICE2024(2025)377.txt',\n",
       "  'type': 'Others',\n",
       "  'title': 'Title: Tensor renormalization group study of (1+1)-dimensional O(3) nonlinear sigma model with and without finite chemical potential',\n",
       "  'text': 'Title: Tensor renormalization group study of (1+1)-dimensional O(3) nonlinear sigma model with and without finite chemical potential 段落1:Authors: Xiao Luo(Tsukuba U., GSPAS), Yoshinobu Kuramashi(Tsukuba U., CCS)'},\n",
       " {'path': './documents/PoSLATTICE2024(2025)377.txt',\n",
       "  'type': 'Others',\n",
       "  'title': 'Title: Tensor renormalization group study of (1+1)-dimensional O(3) nonlinear sigma model with and without finite chemical potential',\n",
       "  'text': 'Title: Tensor renormalization group study of (1+1)-dimensional O(3) nonlinear sigma model with and without finite chemical potential 段落2:Date: Dec 3, 2024'},\n",
       " {'path': './documents/PoSLATTICE2024(2025)377.txt',\n",
       "  'type': 'Others',\n",
       "  'title': 'Title: Tensor renormalization group study of (1+1)-dimensional O(3) nonlinear sigma model with and without finite chemical potential',\n",
       "  'text': 'Title: Tensor renormalization group study of (1+1)-dimensional O(3) nonlinear sigma model with and without finite chemical potential 段落3:Published in: PoS LATTICE2024 (2025) 377'},\n",
       " {'path': './documents/PoSLATTICE2024(2025)377.txt',\n",
       "  'type': 'Others',\n",
       "  'title': 'Title: Tensor renormalization group study of (1+1)-dimensional O(3) nonlinear sigma model with and without finite chemical potential',\n",
       "  'text': 'Title: Tensor renormalization group study of (1+1)-dimensional O(3) nonlinear sigma model with and without finite chemical potential 段落4:Contribution to: Lattice 2024'},\n",
       " {'path': './documents/PoSLATTICE2024(2025)377.txt',\n",
       "  'type': 'Others',\n",
       "  'title': 'Title: Tensor renormalization group study of (1+1)-dimensional O(3) nonlinear sigma model with and without finite chemical potential',\n",
       "  'text': 'Title: Tensor renormalization group study of (1+1)-dimensional O(3) nonlinear sigma model with and without finite chemical potential 段落5:Published: Dec 5, 2024'},\n",
       " {'path': './documents/PoSLATTICE2024(2025)377.txt',\n",
       "  'type': 'Others',\n",
       "  'title': 'Title: Tensor renormalization group study of (1+1)-dimensional O(3) nonlinear sigma model with and without finite chemical potential',\n",
       "  'text': 'Title: Tensor renormalization group study of (1+1)-dimensional O(3) nonlinear sigma model with and without finite chemical potential 段落6:e-Print: 2412.02995 [hep-lat]'},\n",
       " {'path': './documents/PoSLATTICE2024(2025)377.txt',\n",
       "  'type': 'Others',\n",
       "  'title': 'Title: Tensor renormalization group study of (1+1)-dimensional O(3) nonlinear sigma model with and without finite chemical potential',\n",
       "  'text': 'Title: Tensor renormalization group study of (1+1)-dimensional O(3) nonlinear sigma model with and without finite chemical potential 段落7:DOI: 10.22323/1.466.0377'},\n",
       " {'path': './documents/PoSLATTICE2024(2025)377.txt',\n",
       "  'type': 'Others',\n",
       "  'title': 'Title: Tensor renormalization group study of (1+1)-dimensional O(3) nonlinear sigma model with and without finite chemical potential',\n",
       "  'text': 'Title: Tensor renormalization group study of (1+1)-dimensional O(3) nonlinear sigma model with and without finite chemical potential 段落8:Report number: UTCCS-P-159, UTHEP-793'},\n",
       " {'path': './documents/PoSLATTICE2024(2025)377.txt',\n",
       "  'type': 'Others',\n",
       "  'title': 'Title: Tensor renormalization group study of (1+1)-dimensional O(3) nonlinear sigma model with and without finite chemical potential',\n",
       "  'text': 'Title: Tensor renormalization group study of (1+1)-dimensional O(3) nonlinear sigma model with and without finite chemical potential 段落9:Abstract: We study (1+1)-dimensional O(3) nonlinear sigma model using the tensor renormalization group method with the infinite limit of the bond dimension D_{\\\\rm cut}\\\\rightarrow \\\\infty. At the vanishing chemical potential \\\\mu=0, we investigate the von Neumann and Rényi types of entanglement entropies. The central charge is determined to be c=1.97(9) by using the asymptotic scaling properties of the entropies. We also examine the consistency between two entropies. In the finite density region with \\\\mu\\\\ne 0, where this model suffers from the sign problem in the standard Monte Carlo approach, we investigate the properties of the quantum phase transition. We determine the transition point \\\\mu_{\\\\rm c} and the critical exponent of the correlation length \\\\nu from the \\\\mu dependence of the number density in the thermodynamic limit. The dynamical critical exponent z is also extracted from the scaling behavior of the temporal correlation length as a function of \\\\mu. This is the first successful calculation of the dynamical critical exponent with the TRG method.'}]"
      ]
     },
     "execution_count": 1,
     "metadata": {},
     "output_type": "execute_result"
    }
   ],
   "source": [
    "import os\n",
    "\n",
    "path          = \"./documents/\"\n",
    "doc_name_list = os.listdir(path)\n",
    "\n",
    "sentences = []\n",
    "documents = []\n",
    "for doc_name in doc_name_list:\n",
    "    with open(path + doc_name) as f:\n",
    "        \n",
    "        if \"JHEP\" in doc_name:\n",
    "            doc_type = \"JHEP\"\n",
    "        elif \"PhysRevD\" in doc_name:\n",
    "            doc_type = \"PhysRevD\"\n",
    "        else:\n",
    "            doc_type = \"Others\"\n",
    "\n",
    "        \n",
    "        paragraphs = f.read().split(\"\\n\\n\")\n",
    "        text = \"\"\n",
    "        for i, paragraph in enumerate(paragraphs):\n",
    "            p = paragraph.lstrip(\"\\n\").replace(\"\\n\", \" \").replace(\"\\u3000\", \"\").rstrip(\"。\").replace(\"：\", \":\")\n",
    "\n",
    "            if i == 0:\n",
    "                title = p\n",
    "            else:\n",
    "                text = f\"{title}\" + \" \" \\\n",
    "                     + f\"段落{i}:\" + p\n",
    "\n",
    "                sentences.append(text)\n",
    "\n",
    "                document = {}\n",
    "                document['path']  = path + doc_name\n",
    "                document['type']  = doc_type\n",
    "                document['title'] = title\n",
    "                document['text']  = text\n",
    "\n",
    "                documents.append(document)\n",
    "\n",
    "documents"
   ]
  },
  {
   "cell_type": "code",
   "execution_count": 2,
   "id": "07e21a4f",
   "metadata": {},
   "outputs": [],
   "source": [
    "from sentence_transformers import SentenceTransformer\n",
    "\n",
    "embedding_model = SentenceTransformer(\"Qwen/Qwen3-Embedding-0.6B\")\n",
    "vectors = embedding_model.encode(sentences)"
   ]
  },
  {
   "cell_type": "code",
   "execution_count": 3,
   "id": "5f997c43",
   "metadata": {},
   "outputs": [
    {
     "data": {
      "text/plain": [
       "(39, 1024)"
      ]
     },
     "execution_count": 3,
     "metadata": {},
     "output_type": "execute_result"
    }
   ],
   "source": [
    "vectors.shape"
   ]
  },
  {
   "cell_type": "code",
   "execution_count": 4,
   "id": "c581400a",
   "metadata": {},
   "outputs": [
    {
     "name": "stderr",
     "output_type": "stream",
     "text": [
      "/home/luoxiao/miniconda3/envs/huggingface/lib/python3.12/site-packages/milvus_lite/__init__.py:15: UserWarning: pkg_resources is deprecated as an API. See https://setuptools.pypa.io/en/latest/pkg_resources.html. The pkg_resources package is slated for removal as early as 2025-11-30. Refrain from using this package or pin to Setuptools<81.\n",
      "  from pkg_resources import DistributionNotFound, get_distribution\n"
     ]
    }
   ],
   "source": [
    "from pymilvus import MilvusClient\n",
    "\n",
    "client = MilvusClient(\"./vectorDB/test.db\")\n"
   ]
  },
  {
   "cell_type": "code",
   "execution_count": null,
   "id": "b0945f33",
   "metadata": {},
   "outputs": [],
   "source": [
    "#client.drop_collection(collection_name=\"collection_test\")"
   ]
  },
  {
   "cell_type": "code",
   "execution_count": null,
   "id": "8eb19a4a",
   "metadata": {},
   "outputs": [
    {
     "data": {
      "text/plain": [
       "{'insert_count': 39, 'ids': [0, 1, 2, 3, 4, 5, 6, 7, 8, 9, 10, 11, 12, 13, 14, 15, 16, 17, 18, 19, 20, 21, 22, 23, 24, 25, 26, 27, 28, 29, 30, 31, 32, 33, 34, 35, 36, 37, 38], 'cost': 0}"
      ]
     },
     "execution_count": 8,
     "metadata": {},
     "output_type": "execute_result"
    }
   ],
   "source": [
    "client.create_collection(\n",
    "    collection_name = \"collection_test\",\n",
    "    dimension       = vectors.shape[1]\n",
    "    )\n",
    "\n",
    "data = [\n",
    "    {\n",
    "        \"id\"    : i, \n",
    "        \"vector\": vectors[i], \n",
    "        \"path\"  : document[\"path\"], \n",
    "        \"type\"  : document[\"type\"], \n",
    "        \"title\" : document[\"title\"],\n",
    "        \"text\"  : document[\"text\"]\n",
    "     } for i, document in enumerate(documents) \n",
    "    ]\n",
    "res = client.insert(\n",
    "    collection_name = \"collection_test\",\n",
    "    data            = data\n",
    "    )\n",
    "res"
   ]
  },
  {
   "cell_type": "code",
   "execution_count": 16,
   "id": "14f88925",
   "metadata": {},
   "outputs": [
    {
     "data": {
      "text/plain": [
       "data: [[{'id': 11, 'distance': 0.9251211881637573, 'entity': {'path': './documents/JHEP07(2025)036.txt', 'type': 'JHEP', 'title': 'Title: Critical endpoints of three-dimensional finite density SU(3) spin model with tensor renormalization group', 'text': 'Title: Critical endpoints of three-dimensional finite density SU(3) spin model with tensor renormalization group 段落5:e-Print: 2503.05144 [hep-lat]'}}, {'id': 10, 'distance': 0.9058234691619873, 'entity': {'path': './documents/JHEP07(2025)036.txt', 'type': 'JHEP', 'title': 'Title: Critical endpoints of three-dimensional finite density SU(3) spin model with tensor renormalization group', 'text': 'Title: Critical endpoints of three-dimensional finite density SU(3) spin model with tensor renormalization group 段落4:Published: Jul 2, 2025'}}, {'id': 12, 'distance': 0.900676965713501, 'entity': {'path': './documents/JHEP07(2025)036.txt', 'type': 'JHEP', 'title': 'Title: Critical endpoints of three-dimensional finite density SU(3) spin model with tensor renormalization group', 'text': 'Title: Critical endpoints of three-dimensional finite density SU(3) spin model with tensor renormalization group 段落6:DOI: 10.1007/JHEP07(2025)036'}}, {'id': 9, 'distance': 0.8972225785255432, 'entity': {'path': './documents/JHEP07(2025)036.txt', 'type': 'JHEP', 'title': 'Title: Critical endpoints of three-dimensional finite density SU(3) spin model with tensor renormalization group', 'text': 'Title: Critical endpoints of three-dimensional finite density SU(3) spin model with tensor renormalization group 段落3:Published in: JHEP 07 (2025) 036'}}, {'id': 8, 'distance': 0.8861600160598755, 'entity': {'path': './documents/JHEP07(2025)036.txt', 'type': 'JHEP', 'title': 'Title: Critical endpoints of three-dimensional finite density SU(3) spin model with tensor renormalization group', 'text': 'Title: Critical endpoints of three-dimensional finite density SU(3) spin model with tensor renormalization group 段落2:Date: Mar 7, 2025'}}, {'id': 13, 'distance': 0.8754187822341919, 'entity': {'path': './documents/JHEP07(2025)036.txt', 'type': 'JHEP', 'title': 'Title: Critical endpoints of three-dimensional finite density SU(3) spin model with tensor renormalization group', 'text': 'Title: Critical endpoints of three-dimensional finite density SU(3) spin model with tensor renormalization group 段落7:Report number: UTHEP-796, UTCCS-P-161'}}, {'id': 14, 'distance': 0.8535445928573608, 'entity': {'path': './documents/JHEP07(2025)036.txt', 'type': 'JHEP', 'title': 'Title: Critical endpoints of three-dimensional finite density SU(3) spin model with tensor renormalization group', 'text': 'Title: Critical endpoints of three-dimensional finite density SU(3) spin model with tensor renormalization group 段落8:Abstract: We investigate the phase diagram of the three-dimensional SU(3) spin model with finite chemical potential, which is an effective Polyakov loop model for finite density QCD, using the tensor renormalization group method. We successfully determine the location of the critical endpoints being free from the complex action problem in the standard Monte Carlo approach. The critical values of the parameters show the consistency with previous ones obtained by other analytic and numerical methods. '}}, {'id': 7, 'distance': 0.8524192571640015, 'entity': {'path': './documents/JHEP07(2025)036.txt', 'type': 'JHEP', 'title': 'Title: Critical endpoints of three-dimensional finite density SU(3) spin model with tensor renormalization group', 'text': 'Title: Critical endpoints of three-dimensional finite density SU(3) spin model with tensor renormalization group 段落1:Authors: Xiao Luo(Tsukuba U. (main)), Yoshinobu Kuramashi(Tsukuba U., CCS)'}}, {'id': 24, 'distance': 0.7692121863365173, 'entity': {'path': './documents/PhysRevD.107.094509.txt', 'type': 'PhysRevD', 'title': 'Title: Tensor renormalization group approach to (1+1)-dimensional SU(2) principal chiral model at finite density', 'text': 'Title: Tensor renormalization group approach to (1+1)-dimensional SU(2) principal chiral model at finite density 段落3:Published in: Phys.Rev.D 107 (2023) 9, 094509'}}, {'id': 26, 'distance': 0.7570562362670898, 'entity': {'path': './documents/PhysRevD.107.094509.txt', 'type': 'PhysRevD', 'title': 'Title: Tensor renormalization group approach to (1+1)-dimensional SU(2) principal chiral model at finite density', 'text': 'Title: Tensor renormalization group approach to (1+1)-dimensional SU(2) principal chiral model at finite density 段落5:e-Print: 2208.13991 [hep-lat]'}}]]"
      ]
     },
     "execution_count": 16,
     "metadata": {},
     "output_type": "execute_result"
    }
   ],
   "source": [
    "keyword = \"Critical endpoints of three-dimensional finite density SU(3) spin model with tensor renormalization group\"\n",
    "\n",
    "results = client.search(\n",
    "    collection_name = \"collection_test\",\n",
    "    data            = [embedding_model.encode(keyword)],\n",
    "    limit           = 10,\n",
    "    output_fields   = [\"path\", \"type\", \"title\",\"text\"]\n",
    ")\n",
    "\n",
    "for result in results:\n",
    "    ids = []\n",
    "    for topi in range(len(result)):\n",
    "        id = result[topi]['id']\n",
    "        ids.append(id)\n",
    "        #print(result[topi])\n",
    "        \n",
    "results"
   ]
  },
  {
   "cell_type": "code",
   "execution_count": 17,
   "id": "48bd0fdb",
   "metadata": {},
   "outputs": [
    {
     "name": "stdout",
     "output_type": "stream",
     "text": [
      "{'id': 7, 'text': 'Title: Critical endpoints of three-dimensional finite density SU(3) spin model with tensor renormalization group 段落1:Authors: Xiao Luo(Tsukuba U. (main)), Yoshinobu Kuramashi(Tsukuba U., CCS)'}\n",
      "{'id': 8, 'text': 'Title: Critical endpoints of three-dimensional finite density SU(3) spin model with tensor renormalization group 段落2:Date: Mar 7, 2025'}\n",
      "{'id': 9, 'text': 'Title: Critical endpoints of three-dimensional finite density SU(3) spin model with tensor renormalization group 段落3:Published in: JHEP 07 (2025) 036'}\n",
      "{'id': 10, 'text': 'Title: Critical endpoints of three-dimensional finite density SU(3) spin model with tensor renormalization group 段落4:Published: Jul 2, 2025'}\n",
      "{'id': 11, 'text': 'Title: Critical endpoints of three-dimensional finite density SU(3) spin model with tensor renormalization group 段落5:e-Print: 2503.05144 [hep-lat]'}\n",
      "{'id': 12, 'text': 'Title: Critical endpoints of three-dimensional finite density SU(3) spin model with tensor renormalization group 段落6:DOI: 10.1007/JHEP07(2025)036'}\n",
      "{'id': 13, 'text': 'Title: Critical endpoints of three-dimensional finite density SU(3) spin model with tensor renormalization group 段落7:Report number: UTHEP-796, UTCCS-P-161'}\n",
      "{'id': 14, 'text': 'Title: Critical endpoints of three-dimensional finite density SU(3) spin model with tensor renormalization group 段落8:Abstract: We investigate the phase diagram of the three-dimensional SU(3) spin model with finite chemical potential, which is an effective Polyakov loop model for finite density QCD, using the tensor renormalization group method. We successfully determine the location of the critical endpoints being free from the complex action problem in the standard Monte Carlo approach. The critical values of the parameters show the consistency with previous ones obtained by other analytic and numerical methods. '}\n",
      "{'id': 24, 'text': 'Title: Tensor renormalization group approach to (1+1)-dimensional SU(2) principal chiral model at finite density 段落3:Published in: Phys.Rev.D 107 (2023) 9, 094509'}\n",
      "{'id': 26, 'text': 'Title: Tensor renormalization group approach to (1+1)-dimensional SU(2) principal chiral model at finite density 段落5:e-Print: 2208.13991 [hep-lat]'}\n"
     ]
    }
   ],
   "source": [
    "results = client.query(\n",
    "    collection_name = \"collection_test\",\n",
    "    output_fields   = [\"text\"],\n",
    "    ids             = ids\n",
    ")\n",
    "\n",
    "for result in results:\n",
    "    print(result)"
   ]
  },
  {
   "cell_type": "code",
   "execution_count": 5,
   "id": "7cfdfbda",
   "metadata": {},
   "outputs": [],
   "source": [
    "import socket\n",
    "client = socket.socket(socket.AF_INET, socket.SOCK_STREAM)\n",
    "client.connect((\"localhost\", 11451))\n",
    "\n",
    "import json\n",
    "send_msg = {\"query\":\"Tell me about XIAO LUO.\", \n",
    "            \"enable_thinking\":True, \n",
    "            \"enable_rag\":True}\n",
    "send_msg = json.dumps(send_msg)\n",
    "send_size = int.to_bytes(len(send_msg), 4)\n",
    "client.send(send_size)\n",
    "client.send(send_msg.encode(\"utf-8\"))\n",
    "\n",
    "recv_size = int.from_bytes(client.recv(4))\n",
    "recv_msg = client.recv(recv_size)\n",
    "recv_msg = json.loads(recv_msg)\n",
    "\n"
   ]
  },
  {
   "cell_type": "code",
   "execution_count": 6,
   "id": "19f7d91d",
   "metadata": {},
   "outputs": [
    {
     "name": "stdout",
     "output_type": "stream",
     "text": [
      "思考:\n",
      "<think>\n",
      "Okay, the user asked about Xiao Luo. Let me check the provided search results.\n",
      "\n",
      "Looking through the documents, there are multiple entries related to Xiao Luo. The first document mentions his work on entanglement and Rényi entropies of an O(3) nonlinear sigma model with tensor renormalization group. The second document talks about a study on the tensor renormalization group for the same model with and without finite chemical potential. There's also a paper on quantum phase transitions and another on critical endpoints of a spin model. The last one is about the tensor renormalization group approach to a SU(2) chiral model.\n",
      "\n",
      "So, Xiao Luo has been researching different aspects of the O(3) nonlinear sigma model using tensor renormalization group methods. The documents show his contributions across various topics, including entanglement entropy, phase transitions, and critical points. The user might be interested in his research contributions, so I should summarize his work in these areas. Also, the path for each document is provided, so I need to mention that in the answer. Let me make sure I didn't miss any other relevant information and that the answer is accurate based on the given results.\n",
      "</think>\n",
      "回答:\n",
      "Xiao Luo has contributed to several studies on the (1+1)-dimensional O(3) nonlinear sigma model using tensor renormalization group (TRG) methods. His work includes:\n",
      "\n",
      "1. **Entanglement and Rényi Entropies**: A study published in *JHEP* (2024) on the entanglement and Rényi entropy of the model with TRG.  \n",
      "   - **Path**: `./documents/JHEP03(2024)020.txt`\n",
      "\n",
      "2. **Tensor Renormalization Group with Finite Chemical Potential**: A TRG study on the model with and without finite chemical potential, published in *PoS LATTICE2024* (2025).  \n",
      "   - **Path**: `./documents/PoSLATTICE2024(2025)377.txt`\n",
      "\n",
      "3. **Quantum Phase Transitions**: Research on phase transitions at finite density, published in *JHEP* (2024).  \n",
      "   - **Path**: `./documents/JHEP11(2024)144.txt`\n",
      "\n",
      "4. **Critical Endpoints**: Analysis of critical points for a spin model, published in *PhysRevD* (2025).  \n",
      "   - **Path**: `./documents/PhysRevD.107.094509.txt`\n",
      "\n",
      "These studies highlight Xiao Luo's expertise in advanced quantum field theory and renormalization group techniques.  \n",
      "\n",
      "**Document Path**:  \n",
      "- `./documents/JHEP03(2024)020.txt`  \n",
      "- `./documents/PoSLATTICE2024(2025)377.txt`  \n",
      "- `./documents/JHEP11(2024)144.txt`  \n",
      "- `./documents/PhysRevD.107.094509.txt`\n"
     ]
    }
   ],
   "source": [
    "print(recv_msg[\"answer\"])"
   ]
  }
 ],
 "metadata": {
  "kernelspec": {
   "display_name": "huggingface",
   "language": "python",
   "name": "python3"
  },
  "language_info": {
   "codemirror_mode": {
    "name": "ipython",
    "version": 3
   },
   "file_extension": ".py",
   "mimetype": "text/x-python",
   "name": "python",
   "nbconvert_exporter": "python",
   "pygments_lexer": "ipython3",
   "version": "3.12.11"
  }
 },
 "nbformat": 4,
 "nbformat_minor": 5
}
